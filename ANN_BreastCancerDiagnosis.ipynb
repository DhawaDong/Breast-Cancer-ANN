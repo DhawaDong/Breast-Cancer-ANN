{
  "nbformat": 4,
  "nbformat_minor": 0,
  "metadata": {
    "colab": {
      "provenance": [],
      "authorship_tag": "ABX9TyNtDFAeF8f4RZKoRlrfMGsy",
      "include_colab_link": true
    },
    "kernelspec": {
      "name": "python3",
      "display_name": "Python 3"
    },
    "language_info": {
      "name": "python"
    }
  },
  "cells": [
    {
      "cell_type": "markdown",
      "metadata": {
        "id": "view-in-github",
        "colab_type": "text"
      },
      "source": [
        "<a href=\"https://colab.research.google.com/github/DhawaDong/Breast-Cancer-ANN/blob/main/ANN_BreastCancerDiagnosis.ipynb\" target=\"_parent\"><img src=\"https://colab.research.google.com/assets/colab-badge.svg\" alt=\"Open In Colab\"/></a>"
      ]
    },
    {
      "cell_type": "code",
      "source": [
        "import numpy as np\n",
        "import pandas as pd;\n",
        "from sklearn.model_selection import train_test_split;\n",
        "from sklearn.preprocessing import StandardScaler\n",
        "\n",
        "import torch\n",
        "import torch.nn as nn\n",
        "import torch.optim as optim\n",
        "from sklearn.metrics import accuracy_score"
      ],
      "metadata": {
        "id": "t0c1HvglWOzy"
      },
      "execution_count": null,
      "outputs": []
    },
    {
      "cell_type": "code",
      "execution_count": null,
      "metadata": {
        "id": "Ea5Y2X1vV3iq"
      },
      "outputs": [],
      "source": [
        "#from google.colab import drive\n",
        "#drive.mount('/content/drive')"
      ]
    },
    {
      "cell_type": "code",
      "source": [
        "DataSetBC = pd.read_csv(r'/content/drive/MyDrive/BreastCancer#MachineLearning/BreastCancerDataSet.csv')"
      ],
      "metadata": {
        "id": "5AvQF5whWQdx"
      },
      "execution_count": null,
      "outputs": []
    },
    {
      "cell_type": "code",
      "source": [
        "DataSetBC.shape"
      ],
      "metadata": {
        "colab": {
          "base_uri": "https://localhost:8080/"
        },
        "id": "D-yNZeWVWqZ-",
        "outputId": "902bc5de-63e0-4346-d49a-a6a56ea10668"
      },
      "execution_count": null,
      "outputs": [
        {
          "output_type": "execute_result",
          "data": {
            "text/plain": [
              "(569, 33)"
            ]
          },
          "metadata": {},
          "execution_count": 83
        }
      ]
    },
    {
      "cell_type": "code",
      "source": [
        "x = DataSetBC.drop(['id', 'diagnosis', 'Unnamed: 32'], axis =1);\n",
        "y = DataSetBC['diagnosis'];"
      ],
      "metadata": {
        "id": "y8eyfKVBWtrb"
      },
      "execution_count": null,
      "outputs": []
    },
    {
      "cell_type": "code",
      "source": [
        "DiagClass = {'M': 1.0, 'B': 0.0}\n",
        "y = y.map(DiagClass);"
      ],
      "metadata": {
        "id": "P0N3UNdiWtuj"
      },
      "execution_count": null,
      "outputs": []
    },
    {
      "cell_type": "code",
      "source": [
        "x.shape, y.shape"
      ],
      "metadata": {
        "colab": {
          "base_uri": "https://localhost:8080/"
        },
        "id": "htJFRB3OW3q6",
        "outputId": "021bedae-7372-4891-83ae-d11c43fd2f98"
      },
      "execution_count": null,
      "outputs": [
        {
          "output_type": "execute_result",
          "data": {
            "text/plain": [
              "((569, 30), (569,))"
            ]
          },
          "metadata": {},
          "execution_count": 86
        }
      ]
    },
    {
      "cell_type": "code",
      "source": [
        "# Split the dataset into training and testing sets\n",
        "X_train, X_test, y_train, y_test = train_test_split(x, y, test_size=0.2, random_state=42)\n"
      ],
      "metadata": {
        "id": "X3a8WyEYW3uA"
      },
      "execution_count": null,
      "outputs": []
    },
    {
      "cell_type": "code",
      "source": [
        "# Standardize features\n",
        "scaler = StandardScaler()\n",
        "X_train = scaler.fit_transform(X_train)\n",
        "X_test = scaler.transform(X_test)"
      ],
      "metadata": {
        "id": "RV2AE_dQXQy8"
      },
      "execution_count": null,
      "outputs": []
    },
    {
      "cell_type": "code",
      "source": [
        "# Convert data to PyTorch tensors\n",
        "X_train_tensor = torch.tensor(X_train, dtype=torch.float32)\n",
        "X_test_tensor = torch.tensor(X_test, dtype=torch.float32)\n",
        "\n",
        "#y_test_array = np.array(y_test)\n",
        "y_train = np.array(y_train)\n",
        "y_test = np.array(y_test)\n",
        "\n",
        "y_train_tensor = torch.tensor(y_train, dtype=torch.float32)\n",
        "y_test_tensor = torch.tensor(y_test, dtype=torch.float32)"
      ],
      "metadata": {
        "id": "anCjn6dXbrCm"
      },
      "execution_count": null,
      "outputs": []
    },
    {
      "cell_type": "code",
      "source": [
        "# Define the ANN model\n",
        "class BreastCancerANN(nn.Module):\n",
        "    def __init__(self):\n",
        "        super(BreastCancerANN, self).__init__()\n",
        "        self.layer1 = nn.Linear(30, 16)  # 30 input features, 16 hidden units\n",
        "        self.layer2 = nn.Linear(16, 1)   # 16 hidden units, 1 output unit\n",
        "        self.sigmoid = nn.Sigmoid()\n",
        "\n",
        "    def forward(self, x):\n",
        "        x = torch.relu(self.layer1(x))\n",
        "        x = self.layer2(x)\n",
        "        x = self.sigmoid(x)\n",
        "        return x"
      ],
      "metadata": {
        "id": "Xcn6zbS6brFw"
      },
      "execution_count": null,
      "outputs": []
    },
    {
      "cell_type": "code",
      "source": [
        "# Instantiate the model\n",
        "model = BreastCancerANN()"
      ],
      "metadata": {
        "id": "36_S0qjwbxQf"
      },
      "execution_count": null,
      "outputs": []
    },
    {
      "cell_type": "code",
      "source": [
        "# Define loss function and optimizer\n",
        "criterion = nn.BCELoss()\n",
        "optimizer = optim.Adam(model.parameters(), lr=0.001)"
      ],
      "metadata": {
        "id": "-hJ8JubtbxTY"
      },
      "execution_count": null,
      "outputs": []
    },
    {
      "cell_type": "code",
      "source": [
        "num_epochs = 1000\n",
        "for epoch in range(num_epochs):\n",
        "    # Forward pass\n",
        "    outputs = model(X_train_tensor)\n",
        "    loss = criterion(outputs, y_train_tensor.view(-1, 1))\n",
        "\n",
        "    # Backward pass and optimization\n",
        "    optimizer.zero_grad()\n",
        "    loss.backward()\n",
        "    optimizer.step()\n",
        "\n",
        "    # Print the loss every 10 epochs\n",
        "    if (epoch + 1) % 10 == 0:\n",
        "        print(f'Epoch [{epoch+1}/{num_epochs}], Loss: {loss.item():.4f}')"
      ],
      "metadata": {
        "colab": {
          "base_uri": "https://localhost:8080/"
        },
        "id": "exr2iTF4brI_",
        "outputId": "fec00e0f-7f80-41a8-ed22-5e6502d4bb04"
      },
      "execution_count": null,
      "outputs": [
        {
          "output_type": "stream",
          "name": "stdout",
          "text": [
            "Epoch [10/1000], Loss: 0.5955\n",
            "Epoch [20/1000], Loss: 0.5185\n",
            "Epoch [30/1000], Loss: 0.4525\n",
            "Epoch [40/1000], Loss: 0.3966\n",
            "Epoch [50/1000], Loss: 0.3486\n",
            "Epoch [60/1000], Loss: 0.3073\n",
            "Epoch [70/1000], Loss: 0.2723\n",
            "Epoch [80/1000], Loss: 0.2430\n",
            "Epoch [90/1000], Loss: 0.2186\n",
            "Epoch [100/1000], Loss: 0.1983\n",
            "Epoch [110/1000], Loss: 0.1814\n",
            "Epoch [120/1000], Loss: 0.1671\n",
            "Epoch [130/1000], Loss: 0.1550\n",
            "Epoch [140/1000], Loss: 0.1447\n",
            "Epoch [150/1000], Loss: 0.1357\n",
            "Epoch [160/1000], Loss: 0.1278\n",
            "Epoch [170/1000], Loss: 0.1209\n",
            "Epoch [180/1000], Loss: 0.1148\n",
            "Epoch [190/1000], Loss: 0.1093\n",
            "Epoch [200/1000], Loss: 0.1044\n",
            "Epoch [210/1000], Loss: 0.0999\n",
            "Epoch [220/1000], Loss: 0.0958\n",
            "Epoch [230/1000], Loss: 0.0922\n",
            "Epoch [240/1000], Loss: 0.0889\n",
            "Epoch [250/1000], Loss: 0.0858\n",
            "Epoch [260/1000], Loss: 0.0831\n",
            "Epoch [270/1000], Loss: 0.0805\n",
            "Epoch [280/1000], Loss: 0.0782\n",
            "Epoch [290/1000], Loss: 0.0760\n",
            "Epoch [300/1000], Loss: 0.0741\n",
            "Epoch [310/1000], Loss: 0.0722\n",
            "Epoch [320/1000], Loss: 0.0705\n",
            "Epoch [330/1000], Loss: 0.0688\n",
            "Epoch [340/1000], Loss: 0.0673\n",
            "Epoch [350/1000], Loss: 0.0658\n",
            "Epoch [360/1000], Loss: 0.0645\n",
            "Epoch [370/1000], Loss: 0.0632\n",
            "Epoch [380/1000], Loss: 0.0620\n",
            "Epoch [390/1000], Loss: 0.0608\n",
            "Epoch [400/1000], Loss: 0.0597\n",
            "Epoch [410/1000], Loss: 0.0587\n",
            "Epoch [420/1000], Loss: 0.0577\n",
            "Epoch [430/1000], Loss: 0.0567\n",
            "Epoch [440/1000], Loss: 0.0558\n",
            "Epoch [450/1000], Loss: 0.0549\n",
            "Epoch [460/1000], Loss: 0.0541\n",
            "Epoch [470/1000], Loss: 0.0533\n",
            "Epoch [480/1000], Loss: 0.0525\n",
            "Epoch [490/1000], Loss: 0.0517\n",
            "Epoch [500/1000], Loss: 0.0510\n",
            "Epoch [510/1000], Loss: 0.0502\n",
            "Epoch [520/1000], Loss: 0.0495\n",
            "Epoch [530/1000], Loss: 0.0488\n",
            "Epoch [540/1000], Loss: 0.0482\n",
            "Epoch [550/1000], Loss: 0.0475\n",
            "Epoch [560/1000], Loss: 0.0469\n",
            "Epoch [570/1000], Loss: 0.0463\n",
            "Epoch [580/1000], Loss: 0.0457\n",
            "Epoch [590/1000], Loss: 0.0451\n",
            "Epoch [600/1000], Loss: 0.0446\n",
            "Epoch [610/1000], Loss: 0.0440\n",
            "Epoch [620/1000], Loss: 0.0434\n",
            "Epoch [630/1000], Loss: 0.0429\n",
            "Epoch [640/1000], Loss: 0.0423\n",
            "Epoch [650/1000], Loss: 0.0418\n",
            "Epoch [660/1000], Loss: 0.0413\n",
            "Epoch [670/1000], Loss: 0.0408\n",
            "Epoch [680/1000], Loss: 0.0403\n",
            "Epoch [690/1000], Loss: 0.0398\n",
            "Epoch [700/1000], Loss: 0.0393\n",
            "Epoch [710/1000], Loss: 0.0389\n",
            "Epoch [720/1000], Loss: 0.0384\n",
            "Epoch [730/1000], Loss: 0.0379\n",
            "Epoch [740/1000], Loss: 0.0375\n",
            "Epoch [750/1000], Loss: 0.0370\n",
            "Epoch [760/1000], Loss: 0.0366\n",
            "Epoch [770/1000], Loss: 0.0361\n",
            "Epoch [780/1000], Loss: 0.0357\n",
            "Epoch [790/1000], Loss: 0.0353\n",
            "Epoch [800/1000], Loss: 0.0348\n",
            "Epoch [810/1000], Loss: 0.0344\n",
            "Epoch [820/1000], Loss: 0.0340\n",
            "Epoch [830/1000], Loss: 0.0336\n",
            "Epoch [840/1000], Loss: 0.0332\n",
            "Epoch [850/1000], Loss: 0.0328\n",
            "Epoch [860/1000], Loss: 0.0324\n",
            "Epoch [870/1000], Loss: 0.0320\n",
            "Epoch [880/1000], Loss: 0.0316\n",
            "Epoch [890/1000], Loss: 0.0312\n",
            "Epoch [900/1000], Loss: 0.0308\n",
            "Epoch [910/1000], Loss: 0.0304\n",
            "Epoch [920/1000], Loss: 0.0301\n",
            "Epoch [930/1000], Loss: 0.0297\n",
            "Epoch [940/1000], Loss: 0.0293\n",
            "Epoch [950/1000], Loss: 0.0290\n",
            "Epoch [960/1000], Loss: 0.0286\n",
            "Epoch [970/1000], Loss: 0.0282\n",
            "Epoch [980/1000], Loss: 0.0279\n",
            "Epoch [990/1000], Loss: 0.0275\n",
            "Epoch [1000/1000], Loss: 0.0272\n"
          ]
        }
      ]
    },
    {
      "cell_type": "code",
      "source": [
        "# Evaluate the model on the test set\n",
        "with torch.no_grad():\n",
        "    model.eval()\n",
        "    predictions = model(X_test_tensor)\n",
        "    predictions = (predictions >= 0.5).float()  # Convert probabilities to binary predictions\n",
        "    accuracy = torch.sum(predictions == y_test_tensor.view(-1, 1)).item() / y_test_tensor.size(0)"
      ],
      "metadata": {
        "id": "qMOZJAIRb7EQ"
      },
      "execution_count": null,
      "outputs": []
    },
    {
      "cell_type": "code",
      "source": [
        "print(f'Test Accuracy: {accuracy:.4f}')"
      ],
      "metadata": {
        "colab": {
          "base_uri": "https://localhost:8080/"
        },
        "id": "xTezkJoOcKrP",
        "outputId": "a1f01c5e-03c9-453d-9ddc-21780ec97c8f"
      },
      "execution_count": null,
      "outputs": [
        {
          "output_type": "stream",
          "name": "stdout",
          "text": [
            "Test Accuracy: 0.9912\n"
          ]
        }
      ]
    }
  ]
}