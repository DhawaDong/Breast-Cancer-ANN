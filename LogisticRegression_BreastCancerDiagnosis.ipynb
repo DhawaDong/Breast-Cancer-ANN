{
  "nbformat": 4,
  "nbformat_minor": 0,
  "metadata": {
    "colab": {
      "provenance": [],
      "mount_file_id": "1HHXFVQ5r4y6oTrvdnki9sUXkDrmOqe8D",
      "authorship_tag": "ABX9TyOn5MFcGeiPGlr4tuOiCwik",
      "include_colab_link": true
    },
    "kernelspec": {
      "name": "python3",
      "display_name": "Python 3"
    },
    "language_info": {
      "name": "python"
    }
  },
  "cells": [
    {
      "cell_type": "markdown",
      "metadata": {
        "id": "view-in-github",
        "colab_type": "text"
      },
      "source": [
        "<a href=\"https://colab.research.google.com/github/DhawaDong/Breast-Cancer-ANN/blob/main/LogisticRegression_BreastCancerDiagnosis.ipynb\" target=\"_parent\"><img src=\"https://colab.research.google.com/assets/colab-badge.svg\" alt=\"Open In Colab\"/></a>"
      ]
    },
    {
      "cell_type": "code",
      "source": [
        "import numpy as np\n",
        "import pandas as pd;\n",
        "from sklearn.model_selection import train_test_split;\n",
        "from sklearn.preprocessing import StandardScaler\n",
        "\n",
        "import torch\n",
        "import torch.nn as nn\n",
        "import torch.optim as optim\n",
        "from sklearn.metrics import accuracy_score"
      ],
      "metadata": {
        "id": "t0c1HvglWOzy"
      },
      "execution_count": null,
      "outputs": []
    },
    {
      "cell_type": "code",
      "source": [
        "DataSetBC = pd.read_csv(r'/content/drive/MyDrive/7#MachineLearning#Projects/BreastCancerDataSet.csv')"
      ],
      "metadata": {
        "id": "5AvQF5whWQdx"
      },
      "execution_count": null,
      "outputs": []
    },
    {
      "cell_type": "code",
      "source": [
        "DataSetBC.shape"
      ],
      "metadata": {
        "id": "D-yNZeWVWqZ-"
      },
      "execution_count": null,
      "outputs": []
    },
    {
      "cell_type": "code",
      "source": [
        "DataSetBC.head()"
      ],
      "metadata": {
        "id": "cxpHl8F4GYby"
      },
      "execution_count": null,
      "outputs": []
    },
    {
      "cell_type": "code",
      "source": [
        "x = DataSetBC.drop(['id', 'diagnosis', 'Unnamed: 32'], axis =1);   #pandas DataFrame\n",
        "y = DataSetBC['diagnosis'];   # pandas series."
      ],
      "metadata": {
        "id": "y8eyfKVBWtrb"
      },
      "execution_count": null,
      "outputs": []
    },
    {
      "cell_type": "code",
      "source": [
        "DiagClass = {'M': 1.0, 'B': 0.0}\n",
        "y = y.map(DiagClass);"
      ],
      "metadata": {
        "id": "P0N3UNdiWtuj"
      },
      "execution_count": null,
      "outputs": []
    },
    {
      "cell_type": "code",
      "source": [
        "x.shape, y.shape"
      ],
      "metadata": {
        "id": "htJFRB3OW3q6"
      },
      "execution_count": null,
      "outputs": []
    },
    {
      "cell_type": "code",
      "source": [
        "# Split the dataset into training and testing sets\n",
        "X_train, X_test, y_train, y_test = train_test_split(x, y, test_size=0.2, random_state=42)\n"
      ],
      "metadata": {
        "id": "X3a8WyEYW3uA"
      },
      "execution_count": null,
      "outputs": []
    },
    {
      "cell_type": "code",
      "source": [
        "# Standardize features\n",
        "scaler = StandardScaler()     #normalization for similar ranged mean and variance\n",
        "X_train = scaler.fit_transform(X_train)\n",
        "X_test = scaler.transform(X_test)"
      ],
      "metadata": {
        "id": "RV2AE_dQXQy8"
      },
      "execution_count": null,
      "outputs": []
    },
    {
      "cell_type": "code",
      "source": [
        "# Convert data to PyTorch tensors\n",
        "X_train_tensor = torch.tensor(X_train, dtype=torch.float32)\n",
        "X_test_tensor = torch.tensor(X_test, dtype=torch.float32)\n",
        "\n",
        "#y_test_array = np.array(y_test)\n",
        "y_train = np.array(y_train)\n",
        "y_test = np.array(y_test)\n",
        "\n",
        "y_train_tensor = torch.tensor(y_train, dtype=torch.float32)\n",
        "y_test_tensor = torch.tensor(y_test, dtype=torch.float32)"
      ],
      "metadata": {
        "id": "anCjn6dXbrCm"
      },
      "execution_count": null,
      "outputs": []
    },
    {
      "cell_type": "code",
      "source": [
        "class LogisticRegression(nn.Module):\n",
        "    def __init__(self, input_size = 30):\n",
        "        super(LogisticRegression, self).__init__()\n",
        "        self.linear = nn.Linear(input_size, 1)\n",
        "        self.sigmoid = nn.Sigmoid()\n",
        "\n",
        "    def forward(self, x):\n",
        "        out = self.linear(x)\n",
        "        out = self.sigmoid(out)\n",
        "        return out"
      ],
      "metadata": {
        "id": "nSDUatSFXIlp"
      },
      "execution_count": null,
      "outputs": []
    },
    {
      "cell_type": "code",
      "source": [
        "# Instantiate the model\n",
        "model = LogisticRegression()"
      ],
      "metadata": {
        "id": "O9hc7cVyXQ5v"
      },
      "execution_count": null,
      "outputs": []
    },
    {
      "cell_type": "code",
      "source": [
        "# Define loss function and optimizer\n",
        "criterion = nn.BCELoss()\n",
        "optimizer = optim.Adam(model.parameters(), lr=0.001)  #SGD, Adagrad, RMSprop, Adadelta"
      ],
      "metadata": {
        "id": "-hJ8JubtbxTY"
      },
      "execution_count": null,
      "outputs": []
    },
    {
      "cell_type": "code",
      "source": [
        "num_epochs = 1000\n",
        "for epoch in range(num_epochs):\n",
        "    # Forward pass\n",
        "    outputs = model(X_train_tensor)\n",
        "    loss = criterion(outputs, y_train_tensor.view(-1, 1))  #evaluate the loss value.\n",
        "\n",
        "    # Backward pass and optimization\n",
        "    optimizer.zero_grad()\n",
        "    loss.backward()    #backpropagation, gradient of parameres(w) wrt error or loss.\n",
        "    optimizer.step()   #adjust the new parameter values.\n",
        "\n",
        "    # Print the loss every 10 epochs\n",
        "    if (epoch + 1) % 10 == 0:\n",
        "        print(f'Epoch [{epoch+1}/{num_epochs}], Loss: {loss.item():.4f}')"
      ],
      "metadata": {
        "id": "exr2iTF4brI_"
      },
      "execution_count": null,
      "outputs": []
    },
    {
      "cell_type": "code",
      "source": [
        "# Evaluate the model on the test set\n",
        "with torch.no_grad():\n",
        "    model.eval()    #set the model in evaluation mode\n",
        "    predictions = model(X_test_tensor)\n",
        "    predictions = (predictions >= 0.5).float()  # Convert probabilities to binary predictions\n",
        "    accuracy = torch.sum(predictions == y_test_tensor.view(-1, 1)).item() / y_test_tensor.size(0)"
      ],
      "metadata": {
        "id": "qMOZJAIRb7EQ"
      },
      "execution_count": null,
      "outputs": []
    },
    {
      "cell_type": "code",
      "source": [
        "print(f'Test Accuracy: {accuracy:.4f}')"
      ],
      "metadata": {
        "id": "xTezkJoOcKrP"
      },
      "execution_count": null,
      "outputs": []
    }
  ]
}